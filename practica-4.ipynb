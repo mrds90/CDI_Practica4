{
 "cells": [
  {
   "cell_type": "markdown",
   "metadata": {},
   "source": [
    "### Control Digital en Sistemas Embebidos - MSE - PRACTICA 4"
   ]
  },
  {
   "cell_type": "code",
   "execution_count": null,
   "metadata": {},
   "outputs": [],
   "source": [
    "import numpy as np\n",
    "import control as cnt\n",
    "from scipy.linalg import expm\n",
    "import matplotlib.pyplot as plt"
   ]
  },
  {
   "cell_type": "markdown",
   "metadata": {},
   "source": [
    "Dada la siguiente función transferencia de una planta continua:\n",
    "\n",
    "$H_{s} = (0.2s + 1) / (0.1s^2 + 0.4s + 1)$"
   ]
  },
  {
   "cell_type": "markdown",
   "metadata": {},
   "source": [
    "**1)** Discretizar la planta."
   ]
  },
  {
   "cell_type": "code",
   "execution_count": null,
   "metadata": {},
   "outputs": [],
   "source": [
    "r_1 = (9.2e3)\n",
    "c_1 = 1e-6\n",
    "r_2 = (18.44e3) #valor particular de la planta\n",
    "c_2 = 1e-6\n",
    "\n",
    "h = 0.005\n",
    "A = [[-(1/r_1+1/r_2)/c_1, 1/(r_2*c_1)],[1/(r_2*c_2), -1/(r_2*c_2)]]\n",
    "B = [[1/(r_1*c_1)],[0]]\n",
    "C = [0, 1]\n",
    "\n",
    "print(A)\n",
    "print(B)\n",
    "print(C)\n",
    "\n",
    "sys = cnt.ss(A,B,C,0)\n",
    "\n",
    "sysd = cnt.c2d(sys,h)\n",
    "sys"
   ]
  },
  {
   "cell_type": "code",
   "execution_count": null,
   "metadata": {},
   "outputs": [],
   "source": [
    "hz = cnt.c2d(sys,h)\n",
    "hz\n",
    "num, den = cnt.tfdata(hz)\n",
    "ss = cnt.tf2ss(num, den )\n",
    "print(ss)"
   ]
  },
  {
   "cell_type": "markdown",
   "metadata": {},
   "source": []
  },
  {
   "cell_type": "markdown",
   "metadata": {},
   "source": [
    "**2)** Obtener la respuesta al escalón en tiempo continuo y discreto."
   ]
  },
  {
   "cell_type": "code",
   "execution_count": null,
   "metadata": {},
   "outputs": [],
   "source": [
    "t = np.linspace(h, h * 100, 100)\n",
    "u = np.concatenate((np.zeros(int(len(t) / 2)), np.ones(int(len(t) / 2))), axis=None)"
   ]
  },
  {
   "cell_type": "code",
   "execution_count": null,
   "metadata": {},
   "outputs": [],
   "source": [
    "t_hz_open, y_hz_open = cnt.forced_response(hz, t, u)"
   ]
  },
  {
   "cell_type": "code",
   "execution_count": null,
   "metadata": {},
   "outputs": [],
   "source": [
    "p_1 = plt.plot(t,y_hz_open)\n",
    "plt.ylabel('u(t)')\n",
    "plt.title('Respuesta al Escalon')\n",
    "plt.legend('y(t)');"
   ]
  },
  {
   "cell_type": "markdown",
   "metadata": {},
   "source": [
    "**3)** Aplicar un control diseñado por el método de Pole Placement de forma que el sistema ubique ambos polos en (0,5 +- j 0.3)."
   ]
  },
  {
   "cell_type": "markdown",
   "metadata": {},
   "source": [
    "Primero probamos sin obtener K0"
   ]
  },
  {
   "cell_type": "code",
   "execution_count": null,
   "metadata": {},
   "outputs": [],
   "source": [
    "# Ps = cnt.poles(sys);\n",
    "\n",
    "# poles = np.exp(Ps*1.3*h)\n",
    "poles = [0.6 + 0.2j, 0.6 - 0.2j]\n",
    "\n",
    "K = cnt.place(ss.A, ss.B, poles)\n",
    "\n",
    "Phi_LC = ss.A - ss.B * K"
   ]
  },
  {
   "cell_type": "code",
   "execution_count": null,
   "metadata": {},
   "outputs": [],
   "source": [
    "hz_pp = cnt.ss2tf(Phi_LC, ss.B, ss.C, ss.D, h)\n",
    "hz_pp"
   ]
  },
  {
   "cell_type": "code",
   "execution_count": null,
   "metadata": {},
   "outputs": [],
   "source": [
    "t = np.linspace(h, h * 100, 100)\n",
    "r = np.concatenate((np.zeros(int(len(t) / 2)), np.ones(int(len(t) / 2))), axis=None)"
   ]
  },
  {
   "cell_type": "code",
   "execution_count": null,
   "metadata": {},
   "outputs": [],
   "source": [
    "t_hz_pp, y_hz_pp = cnt.forced_response(hz_pp, t, r)"
   ]
  },
  {
   "cell_type": "code",
   "execution_count": null,
   "metadata": {},
   "outputs": [],
   "source": [
    "p_1 = plt.plot(r)\n",
    "p_2 = plt.plot(y_hz_pp)\n",
    "p_3 = plt.plot(y_hz_open)\n",
    "plt.ylabel('u(t)')\n",
    "plt.title('Respuesta al Escalon')\n",
    "plt.legend((p_1[0], p_2[0], p_3[0]), ('Señal de entrada', 'Salida controlada', 'Respuesta natural del sistema'));"
   ]
  },
  {
   "cell_type": "markdown",
   "metadata": {},
   "source": [
    "Ahora probamos obteneniendo K0"
   ]
  },
  {
   "cell_type": "code",
   "execution_count": null,
   "metadata": {},
   "outputs": [],
   "source": [
    "K = cnt.place(ss.A, ss.B, poles)\n",
    "\n",
    "Phi_LC = ss.A - ss.B * K\n"
   ]
  },
  {
   "cell_type": "code",
   "execution_count": null,
   "metadata": {},
   "outputs": [],
   "source": [
    "temp1 = np.linalg.inv(np.eye(2) - Phi_LC)\n",
    "temp2 = np.matmul(ss.C, temp1)\n",
    "g = np.matmul(temp2, ss.B)\n",
    "K0 = 1 / g\n",
    "print(K0)\n",
    "\n",
    "Gamma_LC = ss.B * K0"
   ]
  },
  {
   "cell_type": "code",
   "execution_count": null,
   "metadata": {},
   "outputs": [],
   "source": [
    "hz_pp = cnt.ss2tf(Phi_LC, Gamma_LC, ss.C, ss.D, h)\n",
    "hz_pp"
   ]
  },
  {
   "cell_type": "markdown",
   "metadata": {},
   "source": [
    "**4)** Comparar la respuesta al escalón del punto 2 con la respuesta obtenida aplicando el control por Pole Placement anterior."
   ]
  },
  {
   "cell_type": "code",
   "execution_count": null,
   "metadata": {},
   "outputs": [],
   "source": [
    "t_hz_pp, y_hz_pp = cnt.forced_response(hz_pp, t, r)"
   ]
  },
  {
   "cell_type": "code",
   "execution_count": null,
   "metadata": {},
   "outputs": [],
   "source": [
    "p_1 = plt.plot(r)\n",
    "p_2 = plt.plot(y_hz_pp)\n",
    "p_3 = plt.plot(y_hz_open)\n",
    "plt.ylabel('u(t)')\n",
    "plt.title('Respuesta al Escalon')\n",
    "plt.legend((p_1[0], p_2[0], p_3[0]), ('Señal de entrada', 'Salida controlada', 'Respuesta natural del sistema'));"
   ]
  },
  {
   "cell_type": "code",
   "execution_count": null,
   "metadata": {},
   "outputs": [],
   "source": [
    "print(K)\n",
    "print(K0)\n",
    "\n",
    "# config->K[0][0] * state[0][0] + config->K[0][1] * state[1][0]"
   ]
  }
 ],
 "metadata": {
  "kernelspec": {
   "display_name": "Python 3 (ipykernel)",
   "language": "python",
   "name": "python3"
  },
  "language_info": {
   "codemirror_mode": {
    "name": "ipython",
    "version": 3
   },
   "file_extension": ".py",
   "mimetype": "text/x-python",
   "name": "python",
   "nbconvert_exporter": "python",
   "pygments_lexer": "ipython3",
   "version": "3.8.10"
  },
  "vscode": {
   "interpreter": {
    "hash": "b0910efa68c65faf7b1b22e60f5ed6d10d209310f0a455ecbd862ffe309cfe1b"
   }
  }
 },
 "nbformat": 4,
 "nbformat_minor": 2
}
