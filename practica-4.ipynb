{
 "cells": [
  {
   "cell_type": "markdown",
   "metadata": {},
   "source": [
    "### Control Digital en Sistemas Embebidos - MSE - PRACTICA 4"
   ]
  },
  {
   "cell_type": "code",
   "execution_count": null,
   "metadata": {},
   "outputs": [],
   "source": [
    "import numpy as np\n",
    "import control as cnt\n",
    "from scipy.linalg import expm\n",
    "import matplotlib.pyplot as plt"
   ]
  },
  {
   "cell_type": "markdown",
   "metadata": {},
   "source": [
    "Dada la siguiente función transferencia de una planta continua:\n",
    "\n",
    "$H_{s} = (0.2s + 1) / (0.1s^2 + 0.4s + 1)$"
   ]
  },
  {
   "cell_type": "markdown",
   "metadata": {},
   "source": [
    "**1)** Discretizar la planta."
   ]
  },
  {
   "cell_type": "code",
   "execution_count": null,
   "metadata": {},
   "outputs": [],
   "source": [
    "r_1 = (9.2e3)\n",
    "c_1 = 1e-6\n",
    "r_2 = (18.44e3) #valor particular de la planta\n",
    "c_2 = 1e-6\n",
    "\n",
    "h = 0.005\n",
    "A = [[-(1/r_1+1/r_2)/c_1, 1/(r_2*c_1)],[1/(r_2*c_2), -1/(r_2*c_2)]]\n",
    "B = [[1/(r_1*c_1)],[0]]\n",
    "C = [0, 1]\n",
    "\n",
    "print(A)\n",
    "print(B)\n",
    "print(C)\n",
    "\n",
    "sys = cnt.ss(A,B,C,0)\n",
    "\n",
    "sysd = cnt.c2d(sys,h)\n",
    "sys"
   ]
  },
  {
   "cell_type": "code",
   "execution_count": null,
   "metadata": {},
   "outputs": [],
   "source": [
    "hz = cnt.c2d(sys,h)\n",
    "hz\n",
    "num, den = cnt.tfdata(hz)\n",
    "    \n",
    "DEN0 = den[0][0][0]\n",
    "DEN1 = den[0][0][1]\n",
    "DEN2 = den[0][0][2]\n",
    "NUM0 = num[0][0][0]\n",
    "NUM1 = num[0][0][1]\n",
    "\n",
    "#Para uso en real_world.c\n",
    "print(\"// Coeficientes del numerador en Q15\")\n",
    "print(f\"#define NUM0 Q15_SCALE({NUM0})\")\n",
    "print(f\"#define NUM1 Q15_SCALE({NUM1})\")\n",
    "print(\"\\n// Coeficientes del denominador en Q15\")\n",
    "print(f\"#define DEN0 Q15_SCALE({DEN0})\")\n",
    "print(f\"#define DEN1 Q15_SCALE({DEN1})\")\n",
    "print(f\"#define DEN2 Q15_SCALE({DEN2})\")\n",
    "\n",
    "ss = cnt.tf2ss(num, den)\n",
    "ss"
   ]
  },
  {
   "cell_type": "markdown",
   "metadata": {},
   "source": []
  },
  {
   "cell_type": "markdown",
   "metadata": {},
   "source": [
    "**2)** Obtener la respuesta al escalón en tiempo continuo y discreto."
   ]
  },
  {
   "cell_type": "code",
   "execution_count": null,
   "metadata": {},
   "outputs": [],
   "source": [
    "t = np.linspace(h, h * 100, 100)\n",
    "u = np.concatenate((np.zeros(int(len(t) / 2)), np.ones(int(len(t) / 2))), axis=None)\n",
    "\n",
    "t_hz_open, y_hz_open = cnt.forced_response(hz, t, u)\n"
   ]
  },
  {
   "cell_type": "code",
   "execution_count": null,
   "metadata": {},
   "outputs": [],
   "source": [
    "p_1 = plt.plot(t_hz_open,y_hz_open)\n",
    "plt.ylabel('u(t)')\n",
    "plt.title('Respuesta al Escalon')\n",
    "plt.legend('y(t)');"
   ]
  },
  {
   "cell_type": "markdown",
   "metadata": {},
   "source": [
    "**3)** Aplicar un control diseñado por el método de Pole Placement de forma que el sistema ubique ambos polos en un 30% mas rápido."
   ]
  },
  {
   "cell_type": "markdown",
   "metadata": {},
   "source": [
    "Primero probamos sin obtener K0"
   ]
  },
  {
   "cell_type": "code",
   "execution_count": null,
   "metadata": {},
   "outputs": [],
   "source": [
    "Ps = cnt.poles(sys)\n",
    "\n",
    "# poles = np.exp(Ps*1.3*h)\n",
    "poles = [0.6 + 0.2j, 0.6 - 0.2j]\n",
    "\n",
    "K = cnt.place(ss.A, ss.B, poles)\n",
    "print(\"k:\",K)\n",
    "\n",
    "Phi_LC = ss.A - ss.B * K\n",
    "\n",
    "Po = np.array([-10*(np.abs(poles).max()), -11*np.max(np.abs(poles).max())])\n",
    "\n",
    "Pod = np.exp(Po*h)\n",
    "\n",
    "L = (cnt.place(ss.A.T, ss.C.T,Pod)).T\n",
    "\n",
    "print(\"L:\",L)"
   ]
  },
  {
   "cell_type": "code",
   "execution_count": null,
   "metadata": {},
   "outputs": [],
   "source": [
    "hz_pp = cnt.ss2tf(Phi_LC, ss.B, ss.C, ss.D, h)\n",
    "hz_pp"
   ]
  },
  {
   "cell_type": "code",
   "execution_count": null,
   "metadata": {},
   "outputs": [],
   "source": [
    "t = np.linspace(h, h * 100, 100)\n",
    "r = np.concatenate((np.zeros(int(len(t) / 2)), np.ones(int(len(t) / 2))), axis=None)"
   ]
  },
  {
   "cell_type": "code",
   "execution_count": null,
   "metadata": {},
   "outputs": [],
   "source": [
    "t_hz_pp, y_hz_pp = cnt.forced_response(hz_pp, t, r)"
   ]
  },
  {
   "cell_type": "code",
   "execution_count": null,
   "metadata": {},
   "outputs": [],
   "source": [
    "p_1 = plt.plot(r)\n",
    "p_2 = plt.plot(y_hz_pp)\n",
    "p_3 = plt.plot(y_hz_open)\n",
    "plt.ylabel('u(t)')\n",
    "plt.title('Respuesta al Escalon')\n",
    "plt.legend((p_1[0], p_2[0], p_3[0]), ('Señal de entrada', 'Salida controlada', 'Respuesta natural del sistema'));"
   ]
  },
  {
   "cell_type": "markdown",
   "metadata": {},
   "source": [
    "Ahora probamos obteneniendo K0"
   ]
  },
  {
   "cell_type": "code",
   "execution_count": null,
   "metadata": {},
   "outputs": [],
   "source": [
    "K = cnt.place(ss.A, ss.B, poles)\n",
    "\n",
    "Phi_LC = ss.A - ss.B * K\n"
   ]
  },
  {
   "cell_type": "code",
   "execution_count": null,
   "metadata": {},
   "outputs": [],
   "source": [
    "Phi_LC = ss.A - ss.B * K\n",
    "temp1 = np.linalg.inv(np.eye(2) - Phi_LC)\n",
    "temp2 = np.matmul(ss.C, temp1)\n",
    "g = np.matmul(temp2, ss.B)\n",
    "K0 = 1 / g\n",
    "print(\"K0: \",K0[0][0])\n",
    "\n",
    "Gamma_LC = ss.B * K0"
   ]
  },
  {
   "cell_type": "code",
   "execution_count": null,
   "metadata": {},
   "outputs": [],
   "source": [
    "hz_pp = cnt.ss2tf(Phi_LC, Gamma_LC, ss.C, ss.D, h)\n",
    "hz_pp"
   ]
  },
  {
   "cell_type": "markdown",
   "metadata": {},
   "source": [
    "**4)** Comparar la respuesta al escalón del punto 2 con la respuesta obtenida aplicando el control por Pole Placement anterior."
   ]
  },
  {
   "cell_type": "code",
   "execution_count": null,
   "metadata": {},
   "outputs": [],
   "source": [
    "t_hz_pp, y_hz_pp = cnt.forced_response(hz_pp, t, r)\n",
    "\n",
    "x1 = t_hz_open[y_hz_open> (0.1 * y_hz_open.max())][0]\n",
    "x2 = t_hz_open[y_hz_open> (0.9 * y_hz_open.max())][0]\n",
    "y1 = y_hz_open[y_hz_open> (0.1 * y_hz_open.max())][0]\n",
    "y2 = y_hz_open[y_hz_open> (0.9 * y_hz_open.max())][0]\n",
    "\n",
    "t_raise_open = x2 - x1\n",
    "print(\"Tiempo de subida sin PP\",t_raise_open) # Tiempo de subida\n",
    "\n",
    "x1 = t_hz_pp[y_hz_pp> (0.1 * y_hz_pp.max())][0]\n",
    "x2 = t_hz_pp[y_hz_pp> (0.9 * y_hz_pp.max())][0]\n",
    "y1 = y_hz_pp[y_hz_pp> (0.1 * y_hz_pp.max())][0]\n",
    "y2 = y_hz_pp[y_hz_pp> (0.9 * y_hz_pp.max())][0]\n",
    "t_raise_pp = x2 - x1\n",
    "print(\"Tiempo de subida con PP\",t_raise_pp) # Tiempo de subida\n",
    "\n",
    "print(\"rel= \",t_raise_open/t_raise_pp)"
   ]
  },
  {
   "cell_type": "code",
   "execution_count": null,
   "metadata": {},
   "outputs": [],
   "source": [
    "p_1 = plt.plot(r)\n",
    "p_2 = plt.plot(y_hz_pp)\n",
    "p_3 = plt.plot(y_hz_open)\n",
    "plt.ylabel('u(t)')\n",
    "plt.title('Respuesta al Escalon')\n",
    "plt.legend((p_1[0], p_2[0], p_3[0]), ('Señal de entrada', 'Salida controlada', 'Respuesta natural del sistema'));"
   ]
  },
  {
   "cell_type": "code",
   "execution_count": null,
   "metadata": {},
   "outputs": [],
   "source": [
    "print(\"K: \",K[0])\n",
    "print(\"K0: \",K0[0][0])\n",
    "print(\"L: \",L[:,0])"
   ]
  }
 ],
 "metadata": {
  "kernelspec": {
   "display_name": "Python 3 (ipykernel)",
   "language": "python",
   "name": "python3"
  },
  "language_info": {
   "codemirror_mode": {
    "name": "ipython",
    "version": 3
   },
   "file_extension": ".py",
   "mimetype": "text/x-python",
   "name": "python",
   "nbconvert_exporter": "python",
   "pygments_lexer": "ipython3",
   "version": "3.8.10"
  },
  "vscode": {
   "interpreter": {
    "hash": "b0910efa68c65faf7b1b22e60f5ed6d10d209310f0a455ecbd862ffe309cfe1b"
   }
  }
 },
 "nbformat": 4,
 "nbformat_minor": 2
}
