{
 "cells": [
  {
   "cell_type": "code",
   "execution_count": null,
   "metadata": {},
   "outputs": [],
   "source": [
    "import numpy as np\n",
    "import control as cnt\n",
    "from scipy.linalg import expm\n",
    "import matplotlib.pyplot as plt"
   ]
  },
  {
   "cell_type": "code",
   "execution_count": null,
   "metadata": {},
   "outputs": [],
   "source": [
    "# Define the system transfer function\n",
    "R1 = 10e3\n",
    "C1 = 1e-6\n",
    "R2 = 15e3\n",
    "C2 = 1e-6\n",
    "# num = [1]\n",
    "# den = [(R1*C1*R2*C2), (R1*C1+R1*C2+R2*C2), 1]\n",
    "# sys = cnt.tf(num, den)\n",
    "\n",
    "A = [[-(1/R1+1/R2)/C1, 1/(R2*C1)], [1/(R2*C2), -1/(R2*C2)]]\n",
    "B = [[1/(R1*C1)],[0]]\n",
    "C = [0, 1]\n",
    "\n",
    "h = 0.005\n",
    "sys = cnt.ss(A, B, C, 0)\n",
    "\n",
    "hz = cnt.c2d(sys,h)\n",
    "\n",
    "ss = cnt.tf2ss(hz)\n",
    "\n",
    "t = np.linspace(h, h * 100, 100)\n",
    "u = np.concatenate((np.zeros(int(len(t) / 2)), np.ones(int(len(t) / 2))), axis=None)\n",
    "\n",
    "t_hz_open, y_hz_open = cnt.forced_response(hz, t, u)\n",
    "\n",
    "sys\n"
   ]
  },
  {
   "cell_type": "code",
   "execution_count": null,
   "metadata": {},
   "outputs": [],
   "source": [
    "p_1 = plt.plot(y_hz_open)\n",
    "plt.ylabel('u(t)')\n",
    "plt.title('Respuesta al Escalon')\n",
    "plt.legend('y(t)');"
   ]
  },
  {
   "cell_type": "code",
   "execution_count": null,
   "metadata": {},
   "outputs": [],
   "source": [
    "poles = [0.4 + 0.1j, 0.4 - 0.1j]\n",
    "\n",
    "K = cnt.place(ss.A, ss.B, poles)\n",
    "\n",
    "Phi_LC = ss.A - ss.B * K\n",
    "\n",
    "ss.A\n",
    "ss.B"
   ]
  },
  {
   "cell_type": "code",
   "execution_count": null,
   "metadata": {},
   "outputs": [],
   "source": [
    "hz_pp = cnt.ss2tf(Phi_LC, ss.B, ss.C, ss.D, h)\n",
    "hz_pp"
   ]
  },
  {
   "cell_type": "code",
   "execution_count": null,
   "metadata": {},
   "outputs": [],
   "source": [
    "t = np.linspace(h, h * 100, 100)\n",
    "r = np.concatenate((np.zeros(int(len(t) / 2)), np.ones(int(len(t) / 2))), axis=None)"
   ]
  },
  {
   "cell_type": "code",
   "execution_count": null,
   "metadata": {},
   "outputs": [],
   "source": [
    "t_hz_pp, y_hz_pp = cnt.forced_response(hz_pp, t, r)"
   ]
  },
  {
   "cell_type": "code",
   "execution_count": null,
   "metadata": {},
   "outputs": [],
   "source": [
    "p_1 = plt.plot(r)\n",
    "p_2 = plt.plot(y_hz_pp)\n",
    "p_3 = plt.plot(y_hz_open)\n",
    "plt.ylabel('u(t)')\n",
    "plt.title('Respuesta al Escalon')\n",
    "plt.legend((p_1[0], p_2[0], p_3[0]), ('Señal de entrada', 'Salida controlada', 'Respuesta natural del sistema'))"
   ]
  },
  {
   "cell_type": "code",
   "execution_count": null,
   "metadata": {},
   "outputs": [],
   "source": [
    "K = cnt.place(ss.A, ss.B, poles)\n",
    "\n",
    "Phi_LC = ss.A - ss.B * K"
   ]
  },
  {
   "cell_type": "code",
   "execution_count": null,
   "metadata": {},
   "outputs": [],
   "source": [
    "temp1 = np.linalg.inv(np.eye(2) - Phi_LC)\n",
    "temp2 = np.matmul(ss.C, temp1)\n",
    "g = np.matmul(temp2, ss.B)\n",
    "K0 = 1 / g\n",
    "\n",
    "Gamma_LC = ss.B * K0"
   ]
  },
  {
   "cell_type": "code",
   "execution_count": null,
   "metadata": {},
   "outputs": [],
   "source": [
    "hz_pp = cnt.ss2tf(Phi_LC, Gamma_LC, ss.C, ss.D, h)\n",
    "hz_pp"
   ]
  },
  {
   "cell_type": "code",
   "execution_count": null,
   "metadata": {},
   "outputs": [],
   "source": [
    "t_hz_pp, y_hz_pp = cnt.forced_response(hz_pp, t, r)"
   ]
  },
  {
   "cell_type": "code",
   "execution_count": null,
   "metadata": {},
   "outputs": [],
   "source": [
    "p_1 = plt.plot(r)\n",
    "p_2 = plt.plot(y_hz_pp)\n",
    "p_3 = plt.plot(y_hz_open)\n",
    "plt.ylabel('u(t)')\n",
    "plt.title('Respuesta al Escalon')\n",
    "plt.legend((p_1[0], p_2[0], p_3[0]), ('Señal de entrada', 'Salida controlada', 'Respuesta natural del sistema'));"
   ]
  }
 ],
 "metadata": {
  "kernelspec": {
   "display_name": "py311",
   "language": "python",
   "name": "python3"
  },
  "language_info": {
   "codemirror_mode": {
    "name": "ipython",
    "version": 3
   },
   "file_extension": ".py",
   "mimetype": "text/x-python",
   "name": "python",
   "nbconvert_exporter": "python",
   "pygments_lexer": "ipython3",
   "version": "3.8.10"
  }
 },
 "nbformat": 4,
 "nbformat_minor": 2
}
